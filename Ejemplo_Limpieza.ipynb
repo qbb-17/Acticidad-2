{
 "cells": [
  {
   "cell_type": "code",
   "execution_count": 1,
   "metadata": {},
   "outputs": [],
   "source": [
    "#Importamos las librerias pandas, numpy y matplotlib respectivamente\n",
    "import pandas as pd\n",
    "import numpy as np\n",
    "import matplotlib.pyplot as plt"
   ]
  },
  {
   "cell_type": "code",
   "execution_count": 2,
   "metadata": {},
   "outputs": [],
   "source": [
    "#Carga desde un archivo .xlsx sin indice\n",
    "data = pd.read_excel('inmuebles.xlsx')"
   ]
  },
  {
   "cell_type": "code",
   "execution_count": 3,
   "metadata": {},
   "outputs": [],
   "source": [
    "#Convertir DataFrame a CSV\n",
    "data.to_csv(\"inmuebles.csv\")"
   ]
  },
  {
   "cell_type": "code",
   "execution_count": null,
   "metadata": {},
   "outputs": [],
   "source": [
    "#Carga desde un archivo .csv sin indice\n",
    "data= pd.read_csv('inmuebles.csv') \n",
    "data"
   ]
  },
  {
   "cell_type": "code",
   "execution_count": null,
   "metadata": {},
   "outputs": [],
   "source": [
    "#Eliminar primera fila o filas innecesarias\n",
    "data1= pd.read_csv('inmuebles.csv', skiprows=1, low_memory=False)\n",
    "data1"
   ]
  },
  {
   "cell_type": "code",
   "execution_count": null,
   "metadata": {},
   "outputs": [],
   "source": [
    "#Eliminar columnas innecesarias\n",
    "data2= data1.drop(['0','Referencia'], axis=1)\n",
    "data2"
   ]
  },
  {
   "cell_type": "code",
   "execution_count": null,
   "metadata": {},
   "outputs": [],
   "source": [
    "#Identificar valores nulos\n",
    "valores_nulos=data2.isnull().sum()\n",
    "valores_nulos"
   ]
  },
  {
   "cell_type": "code",
   "execution_count": 10,
   "metadata": {},
   "outputs": [],
   "source": [
    "#Realizamos una copia del dataframe\n",
    "data3=data2.copy()"
   ]
  },
  {
   "cell_type": "code",
   "execution_count": null,
   "metadata": {},
   "outputs": [],
   "source": [
    "#Sustituir valores nulos con promedio o media\n",
    "data3[\"Superficie\"]=data3[\"Superficie\"].fillna(round(data2[\"Superficie\"].mean(),1))\n",
    "data3"
   ]
  },
  {
   "cell_type": "code",
   "execution_count": null,
   "metadata": {},
   "outputs": [],
   "source": [
    "#Corroboramos valores nulos\n",
    "valores_nulos=data3.isnull().sum()\n",
    "valores_nulos"
   ]
  },
  {
   "cell_type": "code",
   "execution_count": null,
   "metadata": {},
   "outputs": [],
   "source": [
    "#Sustituir valores nulos con mediana\n",
    "data3[\"Precio Venta\"]=data3[\"Precio Venta\"].fillna(round(data2[\"Precio Venta\"].median(),1))\n",
    "data3"
   ]
  },
  {
   "cell_type": "code",
   "execution_count": null,
   "metadata": {},
   "outputs": [],
   "source": [
    "#Corroboramos valores nulos\n",
    "valores_nulos=data3.isnull().sum()\n",
    "valores_nulos"
   ]
  },
  {
   "cell_type": "code",
   "execution_count": null,
   "metadata": {},
   "outputs": [],
   "source": [
    "#Eliminamos filas con nulos\n",
    "data4= data3.dropna(1)\n",
    "data4"
   ]
  },
  {
   "cell_type": "code",
   "execution_count": null,
   "metadata": {},
   "outputs": [],
   "source": [
    "#Corroboramos valores nulos\n",
    "valores_nulos=data4.isnull().sum()\n",
    "valores_nulos"
   ]
  },
  {
   "cell_type": "code",
   "execution_count": 28,
   "metadata": {},
   "outputs": [
    {
     "data": {
      "text/html": [
       "<div>\n",
       "<style scoped>\n",
       "    .dataframe tbody tr th:only-of-type {\n",
       "        vertical-align: middle;\n",
       "    }\n",
       "\n",
       "    .dataframe tbody tr th {\n",
       "        vertical-align: top;\n",
       "    }\n",
       "\n",
       "    .dataframe thead th {\n",
       "        text-align: right;\n",
       "    }\n",
       "</style>\n",
       "<table border=\"1\" class=\"dataframe\">\n",
       "  <thead>\n",
       "    <tr style=\"text-align: right;\">\n",
       "      <th></th>\n",
       "      <th>Fecha Alta</th>\n",
       "      <th>Tipo</th>\n",
       "      <th>Operación</th>\n",
       "      <th>Provincia</th>\n",
       "      <th>Superficie</th>\n",
       "      <th>Precio Venta</th>\n",
       "    </tr>\n",
       "  </thead>\n",
       "  <tbody>\n",
       "    <tr>\n",
       "      <th>0</th>\n",
       "      <td>2004-01-01 00:00:00</td>\n",
       "      <td>Parking</td>\n",
       "      <td>Alquiler</td>\n",
       "      <td>Lleida</td>\n",
       "      <td>291.0</td>\n",
       "      <td>2133903.0</td>\n",
       "    </tr>\n",
       "    <tr>\n",
       "      <th>1</th>\n",
       "      <td>2004-01-01 00:00:00</td>\n",
       "      <td>Local</td>\n",
       "      <td>Venta</td>\n",
       "      <td>Girona</td>\n",
       "      <td>185.0</td>\n",
       "      <td>1945424.0</td>\n",
       "    </tr>\n",
       "    <tr>\n",
       "      <th>2</th>\n",
       "      <td>2004-01-01 00:00:00</td>\n",
       "      <td>Oficina</td>\n",
       "      <td>Alquiler</td>\n",
       "      <td>Girona</td>\n",
       "      <td>82.0</td>\n",
       "      <td>1122240.0</td>\n",
       "    </tr>\n",
       "    <tr>\n",
       "      <th>3</th>\n",
       "      <td>2004-01-02 00:00:00</td>\n",
       "      <td>Parking</td>\n",
       "      <td>Alquiler</td>\n",
       "      <td>Girona</td>\n",
       "      <td>285.0</td>\n",
       "      <td>1122240.0</td>\n",
       "    </tr>\n",
       "    <tr>\n",
       "      <th>4</th>\n",
       "      <td>2004-01-02 00:00:00</td>\n",
       "      <td>Suelo</td>\n",
       "      <td>Venta</td>\n",
       "      <td>Tarragona</td>\n",
       "      <td>152.0</td>\n",
       "      <td>185000.0</td>\n",
       "    </tr>\n",
       "    <tr>\n",
       "      <th>...</th>\n",
       "      <td>...</td>\n",
       "      <td>...</td>\n",
       "      <td>...</td>\n",
       "      <td>...</td>\n",
       "      <td>...</td>\n",
       "      <td>...</td>\n",
       "    </tr>\n",
       "    <tr>\n",
       "      <th>3332</th>\n",
       "      <td>2007-04-29 00:00:00</td>\n",
       "      <td>Industrial</td>\n",
       "      <td>Alquiler</td>\n",
       "      <td>Lleida</td>\n",
       "      <td>221.0</td>\n",
       "      <td>1450644.0</td>\n",
       "    </tr>\n",
       "    <tr>\n",
       "      <th>3333</th>\n",
       "      <td>2007-04-29 00:00:00</td>\n",
       "      <td>Piso</td>\n",
       "      <td>Alquiler</td>\n",
       "      <td>Girona</td>\n",
       "      <td>55.0</td>\n",
       "      <td>454080.0</td>\n",
       "    </tr>\n",
       "    <tr>\n",
       "      <th>3334</th>\n",
       "      <td>2007-04-30 00:00:00</td>\n",
       "      <td>Suelo</td>\n",
       "      <td>Venta</td>\n",
       "      <td>Tarragona</td>\n",
       "      <td>78.0</td>\n",
       "      <td>740688.0</td>\n",
       "    </tr>\n",
       "    <tr>\n",
       "      <th>3335</th>\n",
       "      <td>2007-04-30 00:00:00</td>\n",
       "      <td>Piso</td>\n",
       "      <td>Alquiler</td>\n",
       "      <td>Barcelona</td>\n",
       "      <td>88.0</td>\n",
       "      <td>397408.0</td>\n",
       "    </tr>\n",
       "    <tr>\n",
       "      <th>3336</th>\n",
       "      <td>2007-04-30 00:00:00</td>\n",
       "      <td>Parking</td>\n",
       "      <td>Venta</td>\n",
       "      <td>Lleida</td>\n",
       "      <td>254.0</td>\n",
       "      <td>2140712.0</td>\n",
       "    </tr>\n",
       "  </tbody>\n",
       "</table>\n",
       "<p>3337 rows × 6 columns</p>\n",
       "</div>"
      ],
      "text/plain": [
       "               Fecha Alta        Tipo Operación  Provincia  Superficie  \\\n",
       "0     2004-01-01 00:00:00     Parking  Alquiler     Lleida       291.0   \n",
       "1     2004-01-01 00:00:00       Local     Venta     Girona       185.0   \n",
       "2     2004-01-01 00:00:00     Oficina  Alquiler     Girona        82.0   \n",
       "3     2004-01-02 00:00:00     Parking  Alquiler     Girona       285.0   \n",
       "4     2004-01-02 00:00:00       Suelo     Venta  Tarragona       152.0   \n",
       "...                   ...         ...       ...        ...         ...   \n",
       "3332  2007-04-29 00:00:00  Industrial  Alquiler     Lleida       221.0   \n",
       "3333  2007-04-29 00:00:00        Piso  Alquiler     Girona        55.0   \n",
       "3334  2007-04-30 00:00:00       Suelo     Venta  Tarragona        78.0   \n",
       "3335  2007-04-30 00:00:00        Piso  Alquiler  Barcelona        88.0   \n",
       "3336  2007-04-30 00:00:00     Parking     Venta     Lleida       254.0   \n",
       "\n",
       "      Precio Venta  \n",
       "0        2133903.0  \n",
       "1        1945424.0  \n",
       "2        1122240.0  \n",
       "3        1122240.0  \n",
       "4         185000.0  \n",
       "...            ...  \n",
       "3332     1450644.0  \n",
       "3333      454080.0  \n",
       "3334      740688.0  \n",
       "3335      397408.0  \n",
       "3336     2140712.0  \n",
       "\n",
       "[3337 rows x 6 columns]"
      ]
     },
     "execution_count": 28,
     "metadata": {},
     "output_type": "execute_result"
    }
   ],
   "source": [
    "data4"
   ]
  },
  {
   "cell_type": "code",
   "execution_count": 27,
   "metadata": {},
   "outputs": [
    {
     "data": {
      "image/png": "[encoded data removed]",
      "text/plain": [
       "<Figure size 640x480 with 1 Axes>"
      ]
     },
     "metadata": {},
     "output_type": "display_data"
    }
   ],
   "source": [
    "#Realizamos histograma de variables cuantitativas\n",
    "plt.hist(x=data4[\"Superficie\"], color='blue', rwidth=0.50)\n",
    "plt.title('Histograma de Superficies')\n",
    "plt.xlabel('Superficies')\n",
    "plt.ylabel('Frecuencia')\n",
    "\n",
    "plt.show() #dibujamos el histograma"
   ]
  }
 ],
 "metadata": {
  "kernelspec": {
   "display_name": "Python 3.10.6 64-bit",
   "language": "python",
   "name": "python3"
  },
  "language_info": {
   "codemirror_mode": {
    "name": "ipython",
    "version": 3
   },
   "file_extension": ".py",
   "mimetype": "text/x-python",
   "name": "python",
   "nbconvert_exporter": "python",
   "pygments_lexer": "ipython3",
   "version": "3.10.6"
  },
  "orig_nbformat": 4,
  "vscode": {
   "interpreter": {
    "hash": "3eb06009a151591584a8e64b076b6e8b9584003a8eff826d2bd74c5ffbf9e972"
   }
  }
 },
 "nbformat": 4,
 "nbformat_minor": 2
}
